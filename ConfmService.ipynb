{
 "cells": [
  {
   "cell_type": "code",
   "execution_count": 3,
   "id": "9f3e8525-79bf-4072-be39-6ecf593498a7",
   "metadata": {},
   "outputs": [],
   "source": [
    "import tkinter as tk\n",
    "from pandas import DataFrame\n",
    "import matplotlib.pyplot as plt\n",
    "from matplotlib.backends.backend_tkagg import FigureCanvasTkAgg"
   ]
  },
  {
   "cell_type": "code",
   "execution_count": 9,
   "id": "0dbe2d11-8fa3-40f4-bf5f-f7e3d91d4fbe",
   "metadata": {},
   "outputs": [],
   "source": [
    "def factorial(n):\n",
    "    fact = 1\n",
    "\n",
    "    for i in range(1, n+1):\n",
    "        fact = fact * i\n",
    "\n",
    "    return fact\n",
    "\n",
    "\n",
    "def nkCalc(n, k):\n",
    "    if n-k == 0:\n",
    "        const = 1\n",
    "    else:\n",
    "        const = n-k\n",
    "    return factorial(n) / (factorial(const) * factorial(k))\n",
    "\n",
    "\n",
    "def confCalc(n, k, p):\n",
    "    dados1 = {'maquinas': [],\n",
    "        'confiabilidade': []\n",
    "        };\n",
    "    conf = 0.0\n",
    "    for i in range(k, n + 1):\n",
    "        dados1['maquinas'].append(i)\n",
    "        conf += nkCalc(n, i) * (p ** i) * ((1 - p) ** (n - i))\n",
    "        dados1['confiabilidade'].append(conf*100)\n",
    "\n",
    "    return dados1\n",
    "\n",
    "\n",
    "def central():\n",
    "    n = maquinas.get(1.0, \"end-1c\")\n",
    "    k = minimo.get(1.0, \"end-1c\")\n",
    "    p = confInd.get(1.0, \"end-1c\")\n",
    "    dados = confCalc(int(n), int(k), float(p))\n",
    "    df1 = DataFrame(dados, columns=['maquinas', 'confiabilidade'])\n",
    "    root = tk.Tk()\n",
    "    figure2 = plt.Figure(figsize=(6, 6), dpi=100)\n",
    "    ax1 = figure2.add_subplot(111)\n",
    "    line2 = FigureCanvasTkAgg(figure2, root)\n",
    "    line2.get_tk_widget().pack(side=tk.LEFT, fill=tk.BOTH)\n",
    "    df1 = df1[['maquinas', 'confiabilidade']].groupby('maquinas').sum()\n",
    "    df1.plot(kind='line', legend=True, ax=ax1, color='r', marker='o', fontsize=10)\n",
    "    ax1.set_title('maquinas Vs. confiabilidade')\n",
    "    \n",
    "    root.mainloop()\n",
    "\n"
   ]
  },
  {
   "cell_type": "code",
   "execution_count": 10,
   "id": "10485e28",
   "metadata": {},
   "outputs": [],
   "source": [
    "# Top level window\n",
    "frame = tk.Tk()\n",
    "frame.title(\"TextBox Input\")\n",
    "frame.geometry('500x300')\n",
    "\n",
    "# TextBox Creation\n",
    "maquinas = tk.Text(frame,\n",
    "                height = 2,\n",
    "                width = 20)\n",
    "maquinas.pack()\n",
    "\n",
    "minimo = tk.Text(frame,\n",
    "                height = 2,\n",
    "                width = 20)\n",
    "minimo.pack()\n",
    "\n",
    "\n",
    "confInd = tk.Text(frame,\n",
    "                height = 2,\n",
    "                width = 20)\n",
    "confInd.pack()\n",
    "\n",
    "# Button Creation\n",
    "printButton = tk.Button(frame,\n",
    "                        text = \"Calcular\", \n",
    "                        command = central)\n",
    "printButton.pack()\n",
    "\n",
    "# Label Creation\n",
    "lbl = tk.Label(frame, text = \"\")\n",
    "lbl.pack()\n",
    "frame.mainloop()"
   ]
  }
 ],
 "metadata": {
  "kernelspec": {
   "display_name": "Python 3.10.6 64-bit (windows store)",
   "language": "python",
   "name": "python3"
  },
  "language_info": {
   "codemirror_mode": {
    "name": "ipython",
    "version": 3
   },
   "file_extension": ".py",
   "mimetype": "text/x-python",
   "name": "python",
   "nbconvert_exporter": "python",
   "pygments_lexer": "ipython3",
   "version": "3.10.6"
  },
  "vscode": {
   "interpreter": {
    "hash": "c4bba4c12435bcc1707440abd65eabad8da59c89e32f3eba4bcb62b5414f6e23"
   }
  }
 },
 "nbformat": 4,
 "nbformat_minor": 5
}
